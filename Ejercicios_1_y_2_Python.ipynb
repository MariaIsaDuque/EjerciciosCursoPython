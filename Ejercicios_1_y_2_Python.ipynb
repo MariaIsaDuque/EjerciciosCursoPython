{
  "nbformat": 4,
  "nbformat_minor": 0,
  "metadata": {
    "colab": {
      "provenance": [],
      "authorship_tag": "ABX9TyMd/GoITaYfsSdgaJTqW9n3",
      "include_colab_link": true
    },
    "kernelspec": {
      "name": "python3",
      "display_name": "Python 3"
    },
    "language_info": {
      "name": "python"
    }
  },
  "cells": [
    {
      "cell_type": "markdown",
      "metadata": {
        "id": "view-in-github",
        "colab_type": "text"
      },
      "source": [
        "<a href=\"https://colab.research.google.com/github/MariaIsaDuque/EjerciciosCursoPython/blob/main/Ejercicios_1_y_2_Python.ipynb\" target=\"_parent\"><img src=\"https://colab.research.google.com/assets/colab-badge.svg\" alt=\"Open In Colab\"/></a>"
      ]
    },
    {
      "cell_type": "markdown",
      "source": [
        "### **EJERCICIOS N.1**"
      ],
      "metadata": {
        "id": "G_NeeGD10_C2"
      }
    },
    {
      "cell_type": "markdown",
      "source": [
        "## **Exercise 1**\n",
        "\n",
        "Write a program that:\n",
        "Asks the user for their current age.\n",
        "Calculates and displays their age 10 years from now.\n",
        "\n"
      ],
      "metadata": {
        "id": "31CGAUXEhBMB"
      }
    },
    {
      "cell_type": "code",
      "source": [
        "Edad= int(input('What is your actually age?: '))\n",
        "Calculo= Edad+10\n",
        "print('Your Age in 10 Years will be: ' + str(Calculo))\n",
        ""
      ],
      "metadata": {
        "colab": {
          "base_uri": "https://localhost:8080/"
        },
        "id": "XhEmV3V9iE6R",
        "outputId": "8f49801b-1f32-4ece-b478-e8b25ecca031"
      },
      "execution_count": 6,
      "outputs": [
        {
          "output_type": "stream",
          "name": "stdout",
          "text": [
            "What is your actually age?: 55\n",
            "Your Age in 10 Years will be: 65\n"
          ]
        }
      ]
    },
    {
      "cell_type": "markdown",
      "source": [
        "## **Exercise 2**\n",
        "\n",
        "Write a program that:\n",
        "Asks the user for their favorite color, food, and hobby.\n",
        "Outputs a summary sentence using their inputs."
      ],
      "metadata": {
        "id": "-KZ4w1LghODY"
      }
    },
    {
      "cell_type": "code",
      "source": [
        "Color= str(input('What is your favorite color?: '))\n",
        "Food= str(input('What is your favorite Food?: '))\n",
        "Hobby= str(input('What is your favorite Hooby?: '))\n",
        "\n",
        "print(f'You loves the color {Color}, enjoying {Food}, and {Hobby}.')"
      ],
      "metadata": {
        "colab": {
          "base_uri": "https://localhost:8080/"
        },
        "id": "jSCtcBpIqf9m",
        "outputId": "7878a63b-12b9-49f6-a97f-f3aa773db2e8"
      },
      "execution_count": 8,
      "outputs": [
        {
          "output_type": "stream",
          "name": "stdout",
          "text": [
            "What is your favorite color?: 23\n",
            "What is your favorite Food?: 55\n",
            "What is your favorite Hooby?: 58\n",
            "You loves the color 23, enjoying 55, and 58.\n"
          ]
        }
      ]
    },
    {
      "cell_type": "markdown",
      "source": [
        "## **Exercise 3**\n",
        "\n",
        "Write a program that:\n",
        "Prompts the user to enter a temperature in Celsius.\n",
        "Converts it to Fahrenheit and displays the result."
      ],
      "metadata": {
        "id": "p00ynee5tLiN"
      }
    },
    {
      "cell_type": "code",
      "source": [
        "Celsius = float(input('What is the temperature in Celsius?: '))\n",
        "Fahrenheit=Celsius*9/5 +32\n",
        "print(f'The temperature in Fahrenheit is: {Fahrenheit} °F')"
      ],
      "metadata": {
        "colab": {
          "base_uri": "https://localhost:8080/"
        },
        "id": "vt79IyfVtS30",
        "outputId": "d45a28c7-0dd0-4d0e-c1a8-4a823178c302"
      },
      "execution_count": 11,
      "outputs": [
        {
          "output_type": "stream",
          "name": "stdout",
          "text": [
            "What is the temperature in Celsius?: 205\n",
            "The temperature in Fahrenheit is: 401.0°F\n"
          ]
        }
      ]
    },
    {
      "cell_type": "markdown",
      "source": [
        "## **Exercise 4**\n",
        "\n",
        "Write a program that:\n",
        "Asks the user to guess a number between 1 and 10.\n",
        "Outputs whether the guess is correct (assume the number is 7 for this exercise)."
      ],
      "metadata": {
        "id": "3-4RQdq1vMXY"
      }
    },
    {
      "cell_type": "code",
      "source": [
        "usuario= int(input('Can you guess a number between 1 and 10?: '))\n",
        "numero= 7\n",
        "if usuario == numero:\n",
        "  print('Correct, you did it!')\n",
        "else:\n",
        "  print(\"Sorry, you didn't guess it!\")"
      ],
      "metadata": {
        "colab": {
          "base_uri": "https://localhost:8080/"
        },
        "id": "yMJGkH3VvO0P",
        "outputId": "9e08626d-38dd-495b-e5bb-9975f0fb2ad9"
      },
      "execution_count": 15,
      "outputs": [
        {
          "output_type": "stream",
          "name": "stdout",
          "text": [
            "Can you guess a number between 1 and 10?: 7\n",
            "Correct, you did it!\n"
          ]
        }
      ]
    },
    {
      "cell_type": "markdown",
      "source": [
        "## **Exercise 5**\n",
        "\n",
        "Write a program that:\n",
        "Asks the user to input a word and a number.\n",
        "Prints the word repeated that number of times."
      ],
      "metadata": {
        "id": "7otT-XLnz8yf"
      }
    },
    {
      "cell_type": "code",
      "source": [
        "word = str(input(\"Enter a word: \"))\n",
        "number = int(input(\"Enter a number: \"))\n",
        "print((word + ' ') * number)\n"
      ],
      "metadata": {
        "colab": {
          "base_uri": "https://localhost:8080/"
        },
        "id": "BNf6lrsK0Apf",
        "outputId": "abd01700-9f05-4e7e-91a8-7c49fd348088"
      },
      "execution_count": 18,
      "outputs": [
        {
          "output_type": "stream",
          "name": "stdout",
          "text": [
            "Enter a word: casa\n",
            "Enter a number: 10\n",
            "casa casa casa casa casa casa casa casa casa casa \n"
          ]
        }
      ]
    },
    {
      "cell_type": "markdown",
      "source": [
        "### **EJERCICIOS N° 2**"
      ],
      "metadata": {
        "id": "XFxSoJ_s1OUt"
      }
    },
    {
      "cell_type": "markdown",
      "source": [
        "## **Exercise 1**\n",
        "\n",
        "Write a program that:\n",
        "Asks the user to enter a sentence.\n",
        "Outputs the sentence in all uppercase, all lowercase, and with the first letter of each word capitalized."
      ],
      "metadata": {
        "id": "_rXlfCdS1RIl"
      }
    },
    {
      "cell_type": "code",
      "source": [
        "frase = input(\"Please enter a sentence: \")\n",
        "print(\"Uppercase:\", frase.upper())\n",
        "print(\"Lowercase:\", frase.lower())\n",
        "print(\"Title case:\", frase.title())"
      ],
      "metadata": {
        "colab": {
          "base_uri": "https://localhost:8080/"
        },
        "id": "AsHhA9qb1WX8",
        "outputId": "3fc6c958-040c-4acb-bbe4-bd6d5ede8658"
      },
      "execution_count": 19,
      "outputs": [
        {
          "output_type": "stream",
          "name": "stdout",
          "text": [
            "Please enter a sentence: Mi tio juan\n",
            "Uppercase: MI TIO JUAN\n",
            "Lowercase: mi tio juan\n",
            "Title case: Mi Tio Juan\n"
          ]
        }
      ]
    },
    {
      "cell_type": "markdown",
      "source": [
        "## **Exercise 2**\n",
        "\n",
        "Write a program that:\n",
        "Asks the user to input two boolean values (True or False).\n",
        "Evaluates and displays the results of logical operations (and, or, not) between the two values."
      ],
      "metadata": {
        "id": "jGNRsGRd2CGk"
      }
    },
    {
      "cell_type": "code",
      "source": [
        "val1 = input(\"Please enter the first boolean value (True or False): \")\n",
        "val2 = input(\"Please enter the second boolean value (True or False): \")\n",
        "\n",
        "print(\"Result of AND operation:\", val1 and val2)\n",
        "print(\"Result of OR operation:\", val1 or val2)\n",
        "print(\"Result of NOT operation on first value:\", not val1)\n",
        "print(\"Result of NOT operation on second value:\", not val2)"
      ],
      "metadata": {
        "colab": {
          "base_uri": "https://localhost:8080/"
        },
        "id": "-znkh3Ax2ECE",
        "outputId": "ca9fa2bd-4bcc-40a5-d537-8980af883b22"
      },
      "execution_count": 20,
      "outputs": [
        {
          "output_type": "stream",
          "name": "stdout",
          "text": [
            "Please enter the first boolean value (True or False): true\n",
            "Please enter the second boolean value (True or False): false\n",
            "Result of AND operation: false\n",
            "Result of OR operation: true\n",
            "Result of NOT operation on first value: False\n",
            "Result of NOT operation on second value: False\n"
          ]
        }
      ]
    }
  ]
}