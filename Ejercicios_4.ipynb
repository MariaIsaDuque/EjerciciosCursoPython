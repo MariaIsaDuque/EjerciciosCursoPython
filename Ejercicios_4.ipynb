{
  "nbformat": 4,
  "nbformat_minor": 0,
  "metadata": {
    "colab": {
      "provenance": [],
      "authorship_tag": "ABX9TyOdNaKax2LoI/1Ia4fym7Kl",
      "include_colab_link": true
    },
    "kernelspec": {
      "name": "python3",
      "display_name": "Python 3"
    },
    "language_info": {
      "name": "python"
    }
  },
  "cells": [
    {
      "cell_type": "markdown",
      "metadata": {
        "id": "view-in-github",
        "colab_type": "text"
      },
      "source": [
        "<a href=\"https://colab.research.google.com/github/MariaIsaDuque/EjerciciosCursoPython/blob/main/Ejercicios_4.ipynb\" target=\"_parent\"><img src=\"https://colab.research.google.com/assets/colab-badge.svg\" alt=\"Open In Colab\"/></a>"
      ]
    },
    {
      "cell_type": "markdown",
      "source": [
        "### EXERCISES N. **4**"
      ],
      "metadata": {
        "id": "4dAJvuvbW_6L"
      }
    },
    {
      "cell_type": "markdown",
      "source": [
        "## **Exercise 1**\n",
        "Write a program that:\n",
        "Prompts the user to input a number.\n",
        "Uses a for loop to display its multiplication table up to 10."
      ],
      "metadata": {
        "id": "x3pCsg1AXF2z"
      }
    },
    {
      "cell_type": "code",
      "execution_count": 6,
      "metadata": {
        "colab": {
          "base_uri": "https://localhost:8080/"
        },
        "id": "VgUJ3nNPWljQ",
        "outputId": "62dfbd1b-1fc6-48a8-ff3a-59d8fb035d8a"
      },
      "outputs": [
        {
          "output_type": "stream",
          "name": "stdout",
          "text": [
            "Enter the number: 5\n",
            "5.0 x 0 = 0.0\n",
            "5.0 x 1 = 5.0\n",
            "5.0 x 2 = 10.0\n",
            "5.0 x 3 = 15.0\n",
            "5.0 x 4 = 20.0\n",
            "5.0 x 5 = 25.0\n",
            "5.0 x 6 = 30.0\n",
            "5.0 x 7 = 35.0\n",
            "5.0 x 8 = 40.0\n",
            "5.0 x 9 = 45.0\n",
            "5.0 x 10 = 50.0\n"
          ]
        }
      ],
      "source": [
        "number= float(input(\"Enter the number: \"))\n",
        "for i in range(0,11):\n",
        "  result= number*i\n",
        "  print(f\"{number} x {i} = {result}\")"
      ]
    },
    {
      "cell_type": "markdown",
      "source": [
        "## **Exercise 2**\n",
        "\n",
        "Write a program that:\n",
        "Uses a while loop to let the user guess a number (predefined in the program, e.g., 7).\n",
        "Provides feedback (\"Too high\", \"Too low\", or \"Correct\") and ends the loop when the user guesses correctly."
      ],
      "metadata": {
        "id": "ZuUvPZIkZ4TS"
      }
    },
    {
      "cell_type": "code",
      "source": [
        "number = 7\n",
        "while True:\n",
        "    option = int(input(\"Guess the number: \"))\n",
        "    if option < number:\n",
        "       print(\"Too low!\")\n",
        "    elif option > number:\n",
        "        print(\"Too high!\")\n",
        "    else:\n",
        "        print(\"Correct! You guessed the number.\")\n",
        "        break"
      ],
      "metadata": {
        "colab": {
          "base_uri": "https://localhost:8080/"
        },
        "id": "nUsZ2XWpZ3Hy",
        "outputId": "56817e78-ff0e-4dab-ec4a-e78fc6ca3dfe"
      },
      "execution_count": 13,
      "outputs": [
        {
          "output_type": "stream",
          "name": "stdout",
          "text": [
            "Guess the number: 8\n",
            "Too high!\n",
            "Guess the number: 6\n",
            "Too low!\n",
            "Guess the number: 2\n",
            "Too low!\n",
            "Guess the number: 3\n",
            "Too low!\n",
            "Guess the number: 7\n",
            "Correct! You guessed the number.\n"
          ]
        }
      ]
    },
    {
      "cell_type": "markdown",
      "source": [
        "## **Exercise 3**\n",
        "Write a program that:\n",
        "Prompts the user to enter a string.\n",
        "Uses a for loop to count and display the number of vowels (a, e, i, o, u) in the string."
      ],
      "metadata": {
        "id": "tInHK21ec2Va"
      }
    },
    {
      "cell_type": "code",
      "source": [
        "user_string= input(\"Enter a string: \")\n",
        "\n",
        "vowel_count = 0\n",
        "\n",
        "vowels = \"aeiouAEIOU\"\n",
        "\n",
        "for char in user_string:\n",
        "    if char in vowels:\n",
        "        vowel_count=vowel_count+1\n",
        "\n",
        "print(f\"The number of vowels in the string is: {vowel_count}\")"
      ],
      "metadata": {
        "colab": {
          "base_uri": "https://localhost:8080/"
        },
        "id": "KpnUH6r_c1b9",
        "outputId": "65472b58-a5d1-4846-d0a6-e16509affaeb"
      },
      "execution_count": 15,
      "outputs": [
        {
          "output_type": "stream",
          "name": "stdout",
          "text": [
            "Enter a string: Casa\n",
            "The number of vowels in the string is: 2\n"
          ]
        }
      ]
    },
    {
      "cell_type": "markdown",
      "source": [
        "## **Exercise 4**\n",
        "Write a program that:\n",
        "Prompts the user to input a string.\n",
        "Uses a for loop to reverse the string and display the result."
      ],
      "metadata": {
        "id": "ILY3q69adk5k"
      }
    },
    {
      "cell_type": "code",
      "source": [
        "user_input = input(\"Enter a string: \")\n",
        "\n",
        "reversed= \"\"\n",
        "\n",
        "for char in user_input:\n",
        "    reversed = char + reversed\n",
        "print(\"Reversed string:\", reversed)"
      ],
      "metadata": {
        "colab": {
          "base_uri": "https://localhost:8080/"
        },
        "id": "_fFgTbH0dciS",
        "outputId": "ea604e65-dd66-4099-cd9b-d3636f8edf7c"
      },
      "execution_count": 14,
      "outputs": [
        {
          "output_type": "stream",
          "name": "stdout",
          "text": [
            "Enter a string: Casa\n",
            "Reversed string: asaC\n"
          ]
        }
      ]
    },
    {
      "cell_type": "markdown",
      "source": [
        "## **Exercise 5**\n",
        "Write a program that:\n",
        "Uses a for loop to iterate through numbers from 1 to 50.\n",
        "For multiples of 3, print \"Fizz\".\n",
        "For multiples of 5, print \"Buzz\".\n",
        "For multiples of both 3 and 5, print \"FizzBuzz\".\n",
        "Otherwise, print the number."
      ],
      "metadata": {
        "id": "wUigz1a_eMbT"
      }
    },
    {
      "cell_type": "code",
      "source": [
        "\n",
        "for numbers in range(1, 51):\n",
        "    if numbers % 3 == 0 and number % 5 == 0:\n",
        "        print(\"FizzBuzz\")\n",
        "    elif numbers % 3 == 0:\n",
        "        print(\"Fizz\")\n",
        "    elif numbers % 5 == 0:\n",
        "        print(\"Buzz\")\n",
        "    else:\n",
        "        print(numbers )"
      ],
      "metadata": {
        "colab": {
          "base_uri": "https://localhost:8080/"
        },
        "id": "S0QlswaLd5AU",
        "outputId": "44b31632-d1bb-439d-a3bf-8988270c66a0"
      },
      "execution_count": 16,
      "outputs": [
        {
          "output_type": "stream",
          "name": "stdout",
          "text": [
            "1\n",
            "2\n",
            "Fizz\n",
            "4\n",
            "Buzz\n",
            "Fizz\n",
            "7\n",
            "8\n",
            "Fizz\n",
            "Buzz\n",
            "11\n",
            "Fizz\n",
            "13\n",
            "14\n",
            "Fizz\n",
            "16\n",
            "17\n",
            "Fizz\n",
            "19\n",
            "Buzz\n",
            "Fizz\n",
            "22\n",
            "23\n",
            "Fizz\n",
            "Buzz\n",
            "26\n",
            "Fizz\n",
            "28\n",
            "29\n",
            "Fizz\n",
            "31\n",
            "32\n",
            "Fizz\n",
            "34\n",
            "Buzz\n",
            "Fizz\n",
            "37\n",
            "38\n",
            "Fizz\n",
            "Buzz\n",
            "41\n",
            "Fizz\n",
            "43\n",
            "44\n",
            "Fizz\n",
            "46\n",
            "47\n",
            "Fizz\n",
            "49\n",
            "Buzz\n"
          ]
        }
      ]
    }
  ]
}