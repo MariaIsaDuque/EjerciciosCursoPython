{
  "nbformat": 4,
  "nbformat_minor": 0,
  "metadata": {
    "colab": {
      "provenance": [],
      "authorship_tag": "ABX9TyOSNL7YExOIzithyDYeIYp0",
      "include_colab_link": true
    },
    "kernelspec": {
      "name": "python3",
      "display_name": "Python 3"
    },
    "language_info": {
      "name": "python"
    }
  },
  "cells": [
    {
      "cell_type": "markdown",
      "metadata": {
        "id": "view-in-github",
        "colab_type": "text"
      },
      "source": [
        "<a href=\"https://colab.research.google.com/github/MariaIsaDuque/EjerciciosCursoPython/blob/main/EXERCISES_N_3_python.ipynb\" target=\"_parent\"><img src=\"https://colab.research.google.com/assets/colab-badge.svg\" alt=\"Open In Colab\"/></a>"
      ]
    },
    {
      "cell_type": "markdown",
      "source": [
        "## **EXERCISES N. 3**\n"
      ],
      "metadata": {
        "id": "lcN_s1WVo0Ah"
      }
    },
    {
      "cell_type": "markdown",
      "source": [
        "Exercise 1\n",
        "Write a program that:\n",
        "Asks the user for a year.\n",
        "Determines whether the year is a leap year.\n",
        "Hint: A leap year is divisible by 4 but not by 100 unless also divisible by 400.\n"
      ],
      "metadata": {
        "id": "KqNKLgyJoxZ6"
      }
    },
    {
      "cell_type": "code",
      "execution_count": 14,
      "metadata": {
        "colab": {
          "base_uri": "https://localhost:8080/"
        },
        "id": "D_1Q0UqZoN52",
        "outputId": "f98ce8b1-57e5-41b3-f6a1-52f2769941c4"
      },
      "outputs": [
        {
          "output_type": "stream",
          "name": "stdout",
          "text": [
            "Can you give me a number that corresponds to a year?: 2024\n",
            "This year is leap\n"
          ]
        }
      ],
      "source": [
        "Año= int(input('Can you give me a number that corresponds to a year?: '))\n",
        "\n",
        "if (Año % 4 == 0 and Año % 100 != 0) or (Año % 400 == 0):\n",
        "  print('This year is leap')\n",
        "else:\n",
        "  print(\"Sorry, This year is not leap\")"
      ]
    },
    {
      "cell_type": "markdown",
      "source": [
        "## **Exercise 2**\n",
        "\n",
        "Write a program that:\n",
        "Prompts the user to input two numbers and an operator (+, -, *, /).\n",
        "Performs the operation and displays the result."
      ],
      "metadata": {
        "id": "0oWmi2Ivr54U"
      }
    },
    {
      "cell_type": "code",
      "source": [
        "num1 = float(input(\"Enter the first number: \"))\n",
        "num2 = float(input(\"Enter the second number: \"))\n",
        "operator = input(\"Enter an operator (+, -, *, /): \")\n",
        "\n",
        "if operator == \"+\":\n",
        "    result = num1 + num2\n",
        "elif operator == \"-\":\n",
        "    result = num1 - num2\n",
        "elif operator == \"*\":\n",
        "    result = num1 * num2\n",
        "elif operator == \"/\":\n",
        "    if num2 != 0:\n",
        "        result = num1 / num2\n",
        "    else:\n",
        "        result = \"Error: Division by zero\"\n",
        "        print(result)\n",
        "else:\n",
        "  print(result)\n",
        "\n",
        "print (result)"
      ],
      "metadata": {
        "colab": {
          "base_uri": "https://localhost:8080/"
        },
        "id": "bTyt046nsCkE",
        "outputId": "8ac5f15f-fd1d-40aa-bfc3-d47810031f50"
      },
      "execution_count": 14,
      "outputs": [
        {
          "output_type": "stream",
          "name": "stdout",
          "text": [
            "Enter the first number: 45\n",
            "Enter the second number: 35\n",
            "Enter an operator (+, -, *, /): /\n",
            "1.2857142857142858\n"
          ]
        }
      ]
    },
    {
      "cell_type": "markdown",
      "source": [
        "## **Exercise 3**\n",
        "\n",
        "Write a program that:\n",
        "Prompts the user to input a number.\n",
        "Classifies the number as positive, negative, or zero."
      ],
      "metadata": {
        "id": "PC9EUjZ5xgA_"
      }
    },
    {
      "cell_type": "code",
      "source": [
        "number = float(input(\"Enter a number: \"))\n",
        "\n",
        "if number > 0:\n",
        "    print(\"The number is positive.\")\n",
        "elif number < 0:\n",
        "    print(\"The number is negative.\")\n",
        "else:\n",
        "    print(\"The number is zero.\")"
      ],
      "metadata": {
        "colab": {
          "base_uri": "https://localhost:8080/"
        },
        "id": "Vom2iZrixjno",
        "outputId": "10cd7fe7-1a19-46ed-c3b7-4a33d6f87f9a"
      },
      "execution_count": 17,
      "outputs": [
        {
          "output_type": "stream",
          "name": "stdout",
          "text": [
            "Enter a number: -67\n",
            "The number is negative.\n"
          ]
        }
      ]
    },
    {
      "cell_type": "markdown",
      "source": [
        "## **Exercise 4**\n",
        "\n",
        "Write a program using match...case that:\n",
        "Asks the user to input a number (1-7).\n",
        "Outputs the corresponding day of the week (e.g., 1 for Monday, 7 for Sunday)."
      ],
      "metadata": {
        "id": "JeSTkD9Cx9pf"
      }
    },
    {
      "cell_type": "code",
      "source": [
        "day = int(input('Can you give me a number Between 1 an 7?: '))\n",
        "match day:\n",
        "    case 1:\n",
        "        print('Monday')\n",
        "    case 2:\n",
        "        print('Tuesday')\n",
        "    case 3:\n",
        "        print('Wednesday')\n",
        "    case 4:\n",
        "        print('Thursday')\n",
        "    case 5:\n",
        "        print('Friday')\n",
        "    case 6:\n",
        "        print('Saturday')\n",
        "    case 7:\n",
        "        print('Sunday')\n",
        "    case _:\n",
        "        print(\"Invalid number! Please enter a number between 1 and 7.\")"
      ],
      "metadata": {
        "colab": {
          "base_uri": "https://localhost:8080/"
        },
        "id": "povH1LfRx_tT",
        "outputId": "a81c71ee-1d89-42fb-8b5b-2565406a9e4d"
      },
      "execution_count": 19,
      "outputs": [
        {
          "output_type": "stream",
          "name": "stdout",
          "text": [
            "Can you give me a number Between 1 an 7?: 4\n",
            "Thursday\n"
          ]
        }
      ]
    },
    {
      "cell_type": "markdown",
      "source": [
        "## **Exercise 5**\n",
        "\n",
        "Write a program that:\n",
        "Prompts the user to input a single character.\n",
        "Determines if the character is a vowel, consonant, digit, or special character."
      ],
      "metadata": {
        "id": "SaSHr7Rfz0WB"
      }
    },
    {
      "cell_type": "code",
      "source": [
        "char = input(\"Please enter a single character: \")\n",
        "\n",
        "if len(char) != 1:\n",
        "    print(\"Please enter exactly one character.\")\n",
        "else:\n",
        "    if char.lower() in 'aeiou':\n",
        "        print(f\"{char} is a vowel.\")\n",
        "    elif char.isalpha():\n",
        "        print(f\"{char} is a consonant.\")\n",
        "    elif char.isdigit():\n",
        "        print(f\"{char} is a digit.\")\n",
        "    else:\n",
        "        print(f\"{char} is a special character.\")"
      ],
      "metadata": {
        "colab": {
          "base_uri": "https://localhost:8080/"
        },
        "id": "aywK101Vz4S4",
        "outputId": "7c9db5ec-7c5f-48a8-e7ca-d6dc91bfed82"
      },
      "execution_count": 28,
      "outputs": [
        {
          "output_type": "stream",
          "name": "stdout",
          "text": [
            "Please enter a single character: ?\n",
            "? is a special character.\n"
          ]
        }
      ]
    }
  ]
}